{
 "cells": [
  {
   "cell_type": "markdown",
   "metadata": {},
   "source": [
    "# Contact Simulation (Due: Jan 10, 2025)\n",
    "\n",
    "In this assignment, we will get a peek behind how robot dynamics simulators work. As mentioned in slide 14 of the [optimal control and simulation lecture slides](https://scaron.info/robotics-mva/slides/8-optimal-control.pdf), contact simulation (using time-stepping approach) involves three steps that are performed in a loop, namely 1) Collision Detection, 2) Collision Resolution, and 3) Time integration.\n",
    "\n",
    "This assignment uses the [Coal library](https://github.com/coal-library/coal) (formerly known as HPP-FCL), for performing collision detection, and the integration functions within Pinocchio for the time-stepping. You will implement the collision resolution part to compute the contact impulses to simulate frictional contact. "
   ]
  },
  {
   "cell_type": "markdown",
   "metadata": {},
   "source": [
    "The Euler-Lagrange dynamics equations for a manipulator are\n",
    "\n",
    "$$ M(q) \\dot{\\nu} + b (q, \\nu) = \\tau $$\n",
    "\n",
    "where\n",
    "\n",
    "$q, M, \\nu, b, \\text{ and } \\tau \\text{ are the joint configuration,\n",
    "joint-space inertia}$ matrix, joint velocity, non-joint and non-constraint torques (due to gravity, centripetal and centrifugal effects) and joint torques respectively.\n",
    "\n",
    "Let $\\Phi (q) \\in \\mathbb{R}^{3n_c}$ denote the position of the $n_c$ contact points expressed in a frame coincident with the contact point, such that it has a normal component and two tangential components subscripted by $T$ and $N$ respectively. The non-penetration constraint at contact is expresseed as \n",
    "\n",
    "$$\\Phi(q) \\geq 0.$$\n",
    "\n",
    "The constraint can also be expressed at the velocity level by taking a time derivative on both sides to obtain the constraint\n",
    "\n",
    "$$ c_N - c_N^* \\geq 0, $$\n",
    "\n",
    "where $c_N = J(q^t)\\nu^{t+1} \\in \\mathbb{R}^{n_c}.$\n"
   ]
  },
  {
   "cell_type": "markdown",
   "metadata": {},
   "source": [
    "Expressing the problem at the velocity level using semi-implicit Euler integration scheme, we get\n",
    "\n",
    "$$ M(q^t) \\nu^{t+1} = M (q^t) \\nu^t + (\\tau^t - b(q^t, \\nu^t) )\\Delta t + J^T \\lambda$$ \n",
    "\n",
    "where $J$ is the contact Jacobian and $\\lambda$ is the contact impulse.\n",
    "\n",
    "\n",
    "The correct contact impulses, $\\lambda^i = \\begin{bmatrix} \\lambda_{Tx}^i & \\lambda_{Ty}^i & \\lambda_N^i \\end{bmatrix}^T \\in \\mathbb{R}^3$ for a frictional contact $i$ must satisfy the associated nonlinear complementarity problem (NCP), which arises from three physical principles:\n",
    "\n",
    "1) **Signorini Condition**: This states that normal contact force should be zero unless in contact and should be non-negative to preclude gluing effect and is mathematically expressed as \n",
    "$$ 0 \\leq \\lambda_N \\perp c_N - c_N^* \\geq 0.$$\n",
    "\n",
    "2) **Coulomb friction**: This states that the tangential friction $\\Vert \\lambda^i_T \\Vert \\leq \\mu^i \\lambda^i_N$ \n",
    "\n",
    "3) **Maximum dissipation principle**: This states that the frictional forces should maximize the power dissipated. This happens when the frictional force is exactly opposite to the tangential velocity, when there is sliding at the contact $\\lambda_T^i = -\\mu \\lambda_N^i \\frac{c_T^i}{\\Vert c_T^i \\Vert}$, if $\\Vert c_T^i \\Vert > 0. $\n",
    "\n",
    "The contact point velocity $c$ is related to the contact forces linearly as follows\n",
    "\n",
    "$$c = G\\lambda + g,$$\n",
    "\n",
    "where $G = J M^{-1} J^T$ is the Delassus matrix and $g$ is the contact-point velocity if all contact impulses were to be zero. \n",
    "\n",
    "## Software instructions\n",
    "\n",
    "For this assignment, the Pinocchio version installed the course's conda environment is too old. So, we need to create another environment, where we will install Pinocchio and Meshcat. This can be done by running the following lines of code:\n",
    "\n",
    "```shell\n",
    "conda create -n robEx5 python=3.10\n",
    "\n",
    "conda activate robEx5\n",
    "\n",
    "conda install pinocchio -c conda-forge\n",
    "\n",
    "```"
   ]
  },
  {
   "cell_type": "code",
   "execution_count": null,
   "metadata": {},
   "outputs": [],
   "source": [
    "import numpy as np\n",
    "import pinocchio as pin\n",
    "from pinocchio.visualize import MeshcatVisualizer\n",
    "import meshcat\n",
    "import matplotlib.pyplot as plt\n",
    "\n",
    "from tp5.contact_dyn import create_cubes, computeContactProblem\n",
    "from tp5.visualization import sub_sample"
   ]
  },
  {
   "cell_type": "markdown",
   "metadata": {},
   "source": [
    "## Ex 5.1 - Implementation of Projected Gauss Seidel"
   ]
  },
  {
   "cell_type": "markdown",
   "metadata": {},
   "source": [
    "We are going to first implement one of simplest frictional contact resolution approaches: the projected Gauss Seidel algorithm. We will implement a nonlinear version of the algorithm that solves the NCP problem exactly. In practice it has been found to be quite effective despite not having convergence guarantees. For example, it is used by the Bullet simulator to solve the NCP. \n",
    "\n",
    "The pseudo-code for the algorithm is given below:\n",
    "\n",
    "<img src=\"tp5/PGS_NCP.png\" alt=\"PGS algo\" width=\"700\"/>\n",
    "\n",
    "The PGS contact solver needs to be implemented below with the following API. For simplicity, there is no need to check for convergence. Simply run the solver for a specified number of iterations."
   ]
  },
  {
   "cell_type": "code",
   "execution_count": null,
   "metadata": {},
   "outputs": [],
   "source": [
    "def solve_contact(G: np.ndarray,g: np.ndarray, mus: list, tol : float = 1e-6, max_iter :int = 100) -> np.ndarray:\n",
    "    \"\"\"PGS algorithm solving a contact problem with frictions.\n",
    "\n",
    "    Args:\n",
    "        G (np.ndarray): Delassus matrix.\n",
    "        g (np.ndarray): free velocity of contact points.\n",
    "        mus (list): list of coefficients of friction for the contact points.\n",
    "        tol (float, optional): solver tolerance. Defaults to 1e-6.\n",
    "        max_iter (int, optional): maximum number of iterations for the solver. Defaults to 100.\n",
    "\n",
    "    Returns:\n",
    "        np.ndarray: contact impulses.\n",
    "    \"\"\"\n",
    "    nc = len(mus)\n",
    "    lam = np.zeros(3*nc)\n",
    "    for j in range(max_iter):\n",
    "        for i in range(nc):\n",
    "            ## Your code goes here\n",
    "            pass\n",
    "    return lam"
   ]
  },
  {
   "cell_type": "markdown",
   "metadata": {},
   "source": [
    "### Simulating a cube falling on the floor"
   ]
  },
  {
   "cell_type": "markdown",
   "metadata": {},
   "source": [
    "We will test the PGS solver for a cube falling on the floor. First we build the Pinocchio model of a cube and a plane (which stands for the floor) and we specify the simulation parameters (time step, contact solver accuracy etc):"
   ]
  },
  {
   "cell_type": "code",
   "execution_count": null,
   "metadata": {},
   "outputs": [],
   "source": [
    "np.random.seed(1234)\n",
    "pin.seed(12345)\n",
    "\n",
    "## First example: a cube falling on the floor\n",
    "cube_dimension = 0.2  # size of cube\n",
    "cube_mass = 1.0  # mass of cube\n",
    "mu = 0.5  # friction parameter\n",
    "eps = 0.0  # elasticity\n",
    "model, geom_model, visual_model, data, geom_data, visual_data, actuation = create_cubes(\n",
    "    [cube_dimension], [cube_mass], mu, eps\n",
    ") # creating pinocchio models and datas\n",
    "\n",
    "\n",
    "duration = 1. # duration of simulation\n",
    "dt = 1e-3 # time step duration\n",
    "T = int(duration/dt) # number of time steps\n",
    "\n",
    "tolerance = 1e-6 #contact solver accuracy\n",
    "max_iter = 100 #maximum number of iterations of the contact solver"
   ]
  },
  {
   "cell_type": "markdown",
   "metadata": {},
   "source": [
    "Running the simulator for T timesteps."
   ]
  },
  {
   "cell_type": "code",
   "execution_count": null,
   "metadata": {},
   "outputs": [],
   "source": [
    "# initial state\n",
    "q0 = model.qinit.copy()\n",
    "v0 = np.zeros(model.nv)\n",
    "q0[2] = cube_dimension\n",
    "rand_place = pin.SE3.Random()\n",
    "q0[-4:] = pin.SE3ToXYZQUAT(rand_place)[-4:]\n",
    "\n",
    "q, v = q0.copy(), v0.copy()\n",
    "\n",
    "qs, vs = [q0], [v0] #arrays to store trajectory\n",
    "\n",
    "for t in range(T): # simulation loop \n",
    "    tau = np.zeros(model.nv)\n",
    "    pin.updateGeometryPlacements(model, data, geom_model, geom_data, q)\n",
    "    pin.computeCollisions(geom_model, geom_data, False)\n",
    "    J, vf, Del,g, mus = computeContactProblem(model, data, geom_model, geom_data, q, v, tau, dt)\n",
    "    if J is not None:\n",
    "        lam = solve_contact(Del, g, mus, tolerance, max_iter)\n",
    "        dv = dt*pin.aba(model, data, q, v, tau + J.T @ lam/dt)\n",
    "        v += dv\n",
    "    else:\n",
    "        v = vf\n",
    "    q = pin.integrate(model , q, v*dt)\n",
    "    qs += [q]\n",
    "    vs += [v]"
   ]
  },
  {
   "cell_type": "markdown",
   "metadata": {},
   "source": [
    "We visualize the simulated trajectory inside the Meshcat visualizer:"
   ]
  },
  {
   "cell_type": "code",
   "execution_count": null,
   "metadata": {},
   "outputs": [],
   "source": [
    "vizer = MeshcatVisualizer(model, geom_model, visual_model)\n",
    "vizer.initViewer(open=False, loadModel=True)\n",
    "\n",
    "vizer.viewer[\"plane\"].set_object(meshcat.geometry.Box(np.array([20, 20, 0.1])))\n",
    "placement = np.eye(4)\n",
    "placement[:3, 3] = np.array([0, 0, -0.05])\n",
    "vizer.viewer[\"plane\"].set_transform(placement)\n",
    "vizer.display(q0)\n",
    "\n",
    "cp1 = [0.8, 0.0, 0.2] #camera position\n",
    "cps_ = [cp1]\n",
    "numrep = len(cps_)\n",
    "rps_ = [np.zeros(3)]*numrep\n",
    "\n",
    "max_fps = 30.\n",
    "fps = min([max_fps,1./dt])\n",
    "qs = sub_sample(qs,dt*T, fps)\n",
    "vs = sub_sample(vs,dt*T, fps)\n",
    "\n",
    "def get_callback(i: int):\n",
    "    def _callback(t):\n",
    "        pin.forwardKinematics(model, vizer.data, qs[t], vs[t])\n",
    "    return _callback\n"
   ]
  },
  {
   "cell_type": "code",
   "execution_count": null,
   "metadata": {},
   "outputs": [],
   "source": [
    "vizer.viewer.jupyter_cell()"
   ]
  },
  {
   "cell_type": "code",
   "execution_count": null,
   "metadata": {},
   "outputs": [],
   "source": [
    "for i in range(numrep):\n",
    "    vizer.play(\n",
    "        qs,\n",
    "        1./fps,\n",
    "        get_callback(i)\n",
    "    )"
   ]
  },
  {
   "cell_type": "markdown",
   "metadata": {},
   "source": [
    "## II - Implementing CCP solver"
   ]
  },
  {
   "cell_type": "markdown",
   "metadata": {},
   "source": [
    "The PGS solver is often slow and can require many iterations. Moreover, it lacks convergence guarantees. A common approach taken involves relaxing the original nonlinear complementarity problem to a convex formulation, that results in a conic complementarity problem (CCP). For example, the MuJoCo simulator solves this relaxed problem. MuJoCo differs in another major aspect, where it adds compliance to the contact, which we will not address in this assignment. The convex relaxation causes the Signorini condition to be violated, which means that contact impulses can occur even when breaking contact. \n",
    "\n",
    "The optimization problem associated with the CCP is \n",
    "\n",
    "$$ \\underset{\\lambda \\in K_\\mu}{\\mathrm{\\textbf{min}}} \\, \\frac{1}{2} \\lambda^T G \\lambda + g^T \\lambda, $$\n",
    "\n",
    "where $K_\\mu$ corresponds to the second-order cone where the contact forces satisfy the friction cone constraints. \n",
    "\n",
    "The projection function for this second-order cone is provided below as a helper function."
   ]
  },
  {
   "cell_type": "code",
   "execution_count": null,
   "metadata": {},
   "outputs": [],
   "source": [
    "def SOC_projection(lam:np.ndarray, mus: list) -> np.ndarray:\n",
    "    \"\"\"Projection of the contact impulses on the friction cone.\n",
    "\n",
    "    Args:\n",
    "        lambda (np.ndarray): contact impulses.\n",
    "\n",
    "    Returns:\n",
    "        np.ndarray: projected contact impulses.\n",
    "    \"\"\"\n",
    "    \n",
    "    nc = lam.shape[0]//3\n",
    "    lam_proj = np.zeros(lam.shape)\n",
    "    for i in range(nc):\n",
    "        # lam_proj[i*3+2] = np.maximum(0, lam[i*3+2])\n",
    "        norm = np.linalg.norm(lam[i*3:i*3+2])\n",
    "        if norm > mus[i]*lam[i*3+2]:\n",
    "            x = norm\n",
    "            z = lam[i*3+2]\n",
    "            friction_cone_exterior = np.array([mus[i],1])/np.linalg.norm([mus[i],1])\n",
    "            projected_point = (np.array([x, z]).T@friction_cone_exterior)*friction_cone_exterior\n",
    "            if projected_point[1] < 0:\n",
    "                projected_point *= 0\n",
    "            lam_proj[i*3:i*3+2] = projected_point[0]*lam[i*3:i*3+2]/norm\n",
    "            lam_proj[i*3+2] = projected_point[1]\n",
    "        else:\n",
    "            lam_proj[i*3:i*3+3] = lam[i*3:i*3+3]\n",
    "\n",
    "    return lam_proj"
   ]
  },
  {
   "cell_type": "markdown",
   "metadata": {},
   "source": [
    "## Ex 5.2 Implement the CCP solver\n",
    "\n",
    "Implement a simple Alternating Direction Method of Multipliers (ADMM) algorithm to solve the CCP problem, whose pseudocode is given below. Similarly to the PGS solver, we do not expect you to check for convergence.\n",
    "\n",
    "<img src=\"tp5/ADMM_dualCCP.png\" alt=\"ADMM CCP\" width=\"800\"/>\n",
    "\n",
    "where $\\rho$ can be interpreted as a quadratic penalty parameter.\n"
   ]
  },
  {
   "cell_type": "code",
   "execution_count": null,
   "metadata": {},
   "outputs": [],
   "source": [
    "def solve_contact_ADMM_CCP(G: np.ndarray,g: np.ndarray, mus: list, rho: float = 1e1, max_iter :int = 100) -> np.ndarray:\n",
    "    \"\"\"ADMM algorithm solving a contact problem with frictions.\n",
    "\n",
    "    Args:\n",
    "        G (np.ndarray): Delassus matrix.\n",
    "        g (np.ndarray): free velocity of contact points.\n",
    "        mus (list): list of coefficients of friction for the contact points.\n",
    "        rho (float, optional): ADMM parameter. Defaults to 100..\n",
    "        max_iter (int, optional): maximum number of iterations for the solver. Defaults to 100.\n",
    "\n",
    "    Returns:\n",
    "        np.ndarray: contact impulses.\n",
    "    \"\"\"\n",
    "    \n",
    "    # Your code goes here\n",
    "\n",
    "    return lam"
   ]
  },
  {
   "cell_type": "markdown",
   "metadata": {},
   "source": [
    "Now solve the same cube falling problem using the CCP solver."
   ]
  },
  {
   "cell_type": "code",
   "execution_count": null,
   "metadata": {},
   "outputs": [],
   "source": [
    "q0 = model.qinit.copy()\n",
    "v0 = np.zeros(model.nv)\n",
    "q0[2] = cube_dimension\n",
    "q0[-4:] = pin.SE3ToXYZQUAT(rand_place)[-4:]\n",
    "\n",
    "q, v = q0.copy(), v0.copy()\n",
    "\n",
    "qs, vs = [q0], [v0] #arrays to store trajectory\n",
    "\n",
    "for t in range(T): # simulation loop \n",
    "    tau = np.zeros(model.nv)\n",
    "    pin.updateGeometryPlacements(model, data, geom_model, geom_data, q)\n",
    "    pin.computeCollisions(geom_model, geom_data, False)\n",
    "    J, vf, Del,g, mus = computeContactProblem(model, data, geom_model, geom_data, q, v, tau, dt)\n",
    "    if J is not None:\n",
    "        lam = solve_contact_ADMM_CCP(Del, g, mus)\n",
    "        dv = dt*pin.aba(model, data, q, v, tau + J.T @ lam/dt)\n",
    "        v += dv\n",
    "    else:\n",
    "        v = vf\n",
    "    q = pin.integrate(model , q, v*dt)\n",
    "    qs += [q]\n",
    "    vs += [v]"
   ]
  },
  {
   "cell_type": "code",
   "execution_count": null,
   "metadata": {},
   "outputs": [],
   "source": [
    "\n",
    "vizer = MeshcatVisualizer(model, geom_model, visual_model)\n",
    "vizer.initViewer(open=False, loadModel=True)\n",
    "\n",
    "vizer.viewer[\"plane\"].set_object(meshcat.geometry.Box(np.array([20, 20, 0.1])))\n",
    "placement = np.eye(4)\n",
    "placement[:3, 3] = np.array([0, 0, -0.05])\n",
    "vizer.viewer[\"plane\"].set_transform(placement)\n",
    "vizer.display(q0)\n",
    "\n",
    "cp1 = [0.8, 0.0, 0.2] #camera position\n",
    "cps_ = [cp1]\n",
    "numrep = len(cps_)\n",
    "rps_ = [np.zeros(3)]*numrep\n",
    "\n",
    "max_fps = 30.\n",
    "fps = min([max_fps,1./dt])\n",
    "qs = sub_sample(qs,dt*T, fps)\n",
    "vs = sub_sample(vs,dt*T, fps)\n",
    "\n",
    "def get_callback(i: int):\n",
    "    def _callback(t):\n",
    "        pin.forwardKinematics(model, vizer.data, qs[t], vs[t])\n",
    "    return _callback"
   ]
  },
  {
   "cell_type": "code",
   "execution_count": null,
   "metadata": {},
   "outputs": [],
   "source": [
    "vizer.viewer.jupyter_cell()"
   ]
  },
  {
   "cell_type": "code",
   "execution_count": null,
   "metadata": {},
   "outputs": [],
   "source": [
    "for i in range(numrep):\n",
    "    vizer.play(\n",
    "        qs,\n",
    "        1./fps,\n",
    "        get_callback(i)\n",
    "    )\n"
   ]
  },
  {
   "cell_type": "markdown",
   "metadata": {},
   "source": [
    "## Ex 5.3 Evaluate Signorini constraint violation\n",
    "\n",
    "Let us now check how well the different formulations satisfy the physics principles. Since we know that the CCP formulation can violate Signorini condition, let us monitor this constraint's residual. Write a function to evaluate the constraint residual of the Signorini condition (repeated below). The output should be $\\ell_\\infty$ norm of the residual of all the three Signorini constraints over all the contact points.\n",
    "\n",
    "$$ 0 \\leq \\lambda_N \\perp c_N - c_N^* \\geq 0.$$"
   ]
  },
  {
   "cell_type": "code",
   "execution_count": null,
   "metadata": {},
   "outputs": [],
   "source": [
    "def compute_sig_residual(lambda_n:list, c_n:list, c_n_star:list) -> float:\n",
    "\n",
    "    ## TODO: your code goes here\n",
    "    \n",
    "    n_c = len(lambda_n)\n",
    "    resid_vec = np.zeros(3*n_c)\n",
    "    for i in range(n_c):\n",
    "        # Your code goes here\n",
    "        pass\n",
    "\n",
    "    return np.linalg.norm(resid_vec, np.inf)"
   ]
  },
  {
   "cell_type": "markdown",
   "metadata": {},
   "source": [
    "### Cube sliding on the floor\n",
    "\n",
    "Running both the PGS and the CCP formulations for a problem where the cube is made to slide on the floor by applying a horizontal force the x-direction that is too high for friction forces to counterbalance."
   ]
  },
  {
   "cell_type": "code",
   "execution_count": null,
   "metadata": {},
   "outputs": [],
   "source": [
    "q0 = model.qinit.copy()\n",
    "v0 = np.zeros(model.nv)\n",
    "\n",
    "q, v = q0.copy(), v0.copy()\n",
    "\n",
    "qs_pgs = np.zeros((7, T))\n",
    "vs_pgs = np.zeros((6,T)) #arrays to store trajectory\n",
    "\n",
    "internal_forces = np.zeros((T,4)) # store contact force along x axis for each contact point at every time step\n",
    "signorini_resids_pgs = []\n",
    "for t in range(T): # simulation loop \n",
    "    tau = np.zeros(model.nv)\n",
    "    if t < 500:\n",
    "        tau[0] = 10 # applying an increasing force pushing the cube along y axis\n",
    "    pin.updateGeometryPlacements(model, data, geom_model, geom_data, q)\n",
    "    pin.computeCollisions(geom_model, geom_data, False)\n",
    "    J, vf, Del,g, mus = computeContactProblem(model, data, geom_model, geom_data, q, v, tau, dt)\n",
    "    if J is not None:\n",
    "        lam = solve_contact(Del, g, mus, tolerance, max_iter)\n",
    "        dv = dt*pin.aba(model, data, q, v, tau + J.T @ lam/dt)\n",
    "        v += dv\n",
    "        for i in range(4):\n",
    "            internal_forces[t,i] = lam[3*i]/dt\n",
    "    else:\n",
    "        v = vf\n",
    "    c = J@v\n",
    "    signorini_resids_pgs.append(compute_sig_residual(lam[2::3].tolist(), c[2::3].tolist(), [0]*len(mus)))\n",
    "    q = pin.integrate(model , q, v*dt)\n",
    "    qs_pgs[:,t] = q\n",
    "    vs_pgs[:,t] = v\n",
    "\n",
    "\n",
    "\n",
    "internal_forces_CCP = np.zeros((T,4)) # store contact force along x axis for each contact point at every time step\n",
    "vs_pgs_list = [vs_pgs[:,i].T for i in range(T)]\n",
    "qs_pgs_list = [qs_pgs[:,i].T for i in range(T)]"
   ]
  },
  {
   "cell_type": "code",
   "execution_count": null,
   "metadata": {},
   "outputs": [],
   "source": [
    "# Perform the same simulation using CCP\n",
    "q0 = model.qinit.copy()\n",
    "v0 = np.zeros(model.nv)\n",
    "\n",
    "q, v = q0.copy(), v0.copy()\n",
    "\n",
    "qs_ccp = np.zeros((7, T))\n",
    "vs_ccp = np.zeros((6,T)) #arrays to store trajectory\n",
    "y_vel = []\n",
    "z_vel = []\n",
    "\n",
    "signorini_resids_ccp = []\n",
    "\n",
    "for t in range(T): # simulation loop\n",
    "    tau = np.zeros(model.nv)\n",
    "    if t < 500:\n",
    "        tau[0] = 10 # applying an increasing force pushing the cube along y axis\n",
    "    pin.updateGeometryPlacements(model, data, geom_model, geom_data, q)\n",
    "    pin.computeCollisions(geom_model, geom_data, False)\n",
    "    J, vf, Del,g, mus = computeContactProblem(model, data, geom_model, geom_data, q, v, tau, dt)\n",
    "    if J is not None:\n",
    "        lam = solve_contact_ADMM_CCP(Del, g, mus, 1e1)\n",
    "        dv = dt*pin.aba(model, data, q, v, tau + J.T @ lam/dt)\n",
    "        v += dv\n",
    "        # for i in range(4):\n",
    "        #     internal_forces_CCP[t,i] = lam[3*i]/dt\n",
    "        c = J@v\n",
    "        signorini_resids_ccp.append(compute_sig_residual(lam[2::3].tolist(), c[2::3].tolist(), [0]*(c.shape[0]//3)))\n",
    "    else:\n",
    "        v = vf\n",
    "        signorini_resids_ccp.append(0)\n",
    "    \n",
    "    \n",
    "    q = pin.integrate(model , q, v*dt)\n",
    "    qs_ccp[:,t] = q\n",
    "    vs_ccp[:,t] = v\n",
    "\n",
    "vs_ccp_list = [vs_ccp[:,i].T for i in range(T)]\n",
    "qs_ccp_list = [qs_ccp[:,i].T for i in range(T)]\n",
    "len(vs_ccp_list)"
   ]
  },
  {
   "cell_type": "code",
   "execution_count": null,
   "metadata": {},
   "outputs": [],
   "source": [
    "# Plotting the Signorini complementarity constraint residual for the two solvers\n",
    "plt.figure()\n",
    "plt.semilogy([t for t in range(T)], signorini_resids_pgs, label='PGS Signorini residual')\n",
    "plt.semilogy([t for t in range(T)], signorini_resids_ccp, label='CCP Signorini residual')\n",
    "plt.legend()\n",
    "plt.title(\"Signorini constraint residuals\")\n",
    "plt.xlabel('Timestep')\n",
    "plt.ylabel(\"Constraint residual\")\n",
    "plt.show()"
   ]
  },
  {
   "cell_type": "markdown",
   "metadata": {},
   "source": [
    "Let us now plot the velocities and positions of the block for both the formulations."
   ]
  },
  {
   "cell_type": "code",
   "execution_count": null,
   "metadata": {},
   "outputs": [],
   "source": [
    "# plot the motion resulting from the two solvers\n",
    "\n",
    "plt.figure()\n",
    "plt.plot([t*.1 for t in range(T)], vs_ccp[0,:], label='CCP x velocity')\n",
    "plt.plot([t*.1 for t in range(T)], vs_pgs[0,:], label='PGS x velocity')\n",
    "plt.plot([t*.1 for t in range(T)], vs_ccp[2,:], label='CCP z velocity')\n",
    "plt.plot([t*.1 for t in range(T)], vs_pgs[2,:], label='PGS z velocity')    \n",
    "plt.legend()\n",
    "plt.title('Cube velocity')\n",
    "plt.xlabel('Time step')\n",
    "plt.ylabel('Velocity')\n",
    "plt.show()\n",
    "\n",
    "# plotting positions\n",
    "plt.figure()\n",
    "plt.plot([t*.1 for t in range(T)], qs_ccp[0,:], label='CCP x position')\n",
    "plt.plot([t*.1 for t in range(T)], qs_pgs[0,:], label='PGS x position')\n",
    "plt.plot([t*.1 for t in range(T)], qs_ccp[2,:], label='CCP z position')\n",
    "plt.plot([t*.1 for t in range(T)], qs_pgs[2,:], label='PGS z position')    \n",
    "plt.legend()\n",
    "plt.title('Cube velocity')\n",
    "plt.xlabel('Time step')\n",
    "plt.ylabel('Velocity')\n",
    "plt.show()\n",
    "\n",
    "# plotting forces\n"
   ]
  },
  {
   "cell_type": "markdown",
   "metadata": {},
   "source": [
    "### Visualization of the sliding motion\n",
    "\n",
    "#### PGS formulation"
   ]
  },
  {
   "cell_type": "code",
   "execution_count": null,
   "metadata": {},
   "outputs": [],
   "source": [
    "vizer = MeshcatVisualizer(model, geom_model, visual_model)\n",
    "vizer.initViewer(open=False, loadModel=True)\n",
    "\n",
    "vizer.viewer[\"plane\"].set_object(meshcat.geometry.Box(np.array([20, 20, 0.1])))\n",
    "placement = np.eye(4)\n",
    "placement[:3, 3] = np.array([0, 0, -0.05])\n",
    "vizer.viewer[\"plane\"].set_transform(placement)\n",
    "vizer.display(q0)\n",
    "\n",
    "cp1 = [0.8, 0.0, 0.2] #camera position\n",
    "cps_ = [cp1]\n",
    "numrep = len(cps_)\n",
    "rps_ = [np.zeros(3)]*numrep\n",
    "\n",
    "max_fps = 30.\n",
    "fps = min([max_fps,1./dt])\n",
    "qs = sub_sample(qs_pgs_list,dt*T, fps)\n",
    "vs = sub_sample(vs_pgs_list,dt*T, fps)\n",
    "\n",
    "def get_callback(i: int):\n",
    "    def _callback(t):\n",
    "        pin.forwardKinematics(model, vizer.data, qs[t], vs[t])\n",
    "    return _callback\n"
   ]
  },
  {
   "cell_type": "code",
   "execution_count": null,
   "metadata": {},
   "outputs": [],
   "source": [
    "vizer.viewer.jupyter_cell()"
   ]
  },
  {
   "cell_type": "code",
   "execution_count": null,
   "metadata": {},
   "outputs": [],
   "source": [
    "for i in range(numrep):\n",
    "    vizer.play(\n",
    "        qs,\n",
    "        1./fps,\n",
    "        get_callback(i)\n",
    "    )"
   ]
  },
  {
   "cell_type": "markdown",
   "metadata": {},
   "source": [
    "#### CCP Formulation"
   ]
  },
  {
   "cell_type": "code",
   "execution_count": null,
   "metadata": {},
   "outputs": [],
   "source": [
    "vizer = MeshcatVisualizer(model, geom_model, visual_model)\n",
    "vizer.initViewer(open=False, loadModel=True)\n",
    "\n",
    "vizer.viewer[\"plane\"].set_object(meshcat.geometry.Box(np.array([20, 20, 0.1])))\n",
    "placement = np.eye(4)\n",
    "placement[:3, 3] = np.array([0, 0, -0.05])\n",
    "vizer.viewer[\"plane\"].set_transform(placement)\n",
    "vizer.display(q0)\n",
    "\n",
    "cp1 = [0.8, 0.0, 0.2] #camera position\n",
    "cps_ = [cp1]\n",
    "numrep = len(cps_)\n",
    "rps_ = [np.zeros(3)]*numrep\n",
    "\n",
    "max_fps = 30.\n",
    "fps = min([max_fps,1./dt])\n",
    "qs = sub_sample(qs_ccp_list,dt*T, fps)\n",
    "vs = sub_sample(vs_ccp_list,dt*T, fps)\n",
    "\n",
    "def get_callback(i: int):\n",
    "    def _callback(t):\n",
    "        pin.forwardKinematics(model, vizer.data, qs[t], vs[t])\n",
    "    return _callback"
   ]
  },
  {
   "cell_type": "code",
   "execution_count": null,
   "metadata": {},
   "outputs": [],
   "source": [
    "vizer.viewer.jupyter_cell()"
   ]
  },
  {
   "cell_type": "code",
   "execution_count": null,
   "metadata": {},
   "outputs": [],
   "source": [
    "for i in range(numrep):\n",
    "    vizer.play(\n",
    "        qs,\n",
    "        1./fps,\n",
    "        get_callback(i)\n",
    "    )"
   ]
  },
  {
   "cell_type": "markdown",
   "metadata": {},
   "source": [
    "### PGS sensitivity to ill-conditioned problems\n",
    "\n",
    "The PGS algorithm being a Gauss-Seidel method, resolves contact forces on a per-contact basis. This can make the algorithm sensitive to problems where the Delassus matrix is ill-conditioned."
   ]
  },
  {
   "cell_type": "markdown",
   "metadata": {},
   "source": [
    "### Simulating two stacked cubes"
   ]
  },
  {
   "cell_type": "markdown",
   "metadata": {},
   "source": [
    "We define the pinocchio model of 2 cubes of very different mass (1g vs 1e3kg) with a plane (standing for the floor). The ill-conditionning of the problem should hinder the convergence of PGS and cause the simulation to fail."
   ]
  },
  {
   "cell_type": "code",
   "execution_count": null,
   "metadata": {},
   "outputs": [],
   "source": [
    "cube_dimension = 0.2  # size of cube\n",
    "cube1_mass = 1e-3  # mass of cube 1\n",
    "cube2_mass = 1e3  # mass of cube 2\n",
    "mu = 0.9  # friction parameter between cube and floor\n",
    "el = 0.\n",
    "comp = 0.\n",
    "model, geom_model, visual_model, data, geom_data, visual_data, actuation = create_cubes(\n",
    "    [cube_dimension, cube_dimension], [cube1_mass, cube2_mass], mu, el\n",
    ")\n",
    "\n",
    "# Number of time steps\n",
    "T = 100\n",
    "dt = 1e-3\n",
    "\n",
    "# Physical parameters of the contact problem\n",
    "Kb = 1e-4*0.  # Baumgarte\n",
    "eps = 0.0  # elasticity"
   ]
  },
  {
   "cell_type": "code",
   "execution_count": null,
   "metadata": {},
   "outputs": [],
   "source": [
    "# initial state\n",
    "q0 = pin.neutral(model)\n",
    "q0[2] = cube_dimension / 2 + cube_dimension/50.\n",
    "q0[9] = 3. * cube_dimension / 2 + 3*cube_dimension/50.\n",
    "v0 = np.zeros(model.nv)\n",
    "q, v = q0.copy(), v0.copy()\n",
    "\n",
    "qs, vs = [q0], [v0] #arrays to store trajectory\n",
    "\n",
    "for t in range(T): # simulation loop \n",
    "    tau = np.zeros(model.nv)\n",
    "    pin.updateGeometryPlacements(model, data, geom_model, geom_data, q)\n",
    "    pin.computeCollisions(geom_model, geom_data, False)\n",
    "    J, vf, Del,g, mus = computeContactProblem(model, data, geom_model, geom_data, q, v, tau, dt)\n",
    "    if J is not None:\n",
    "        lam = solve_contact(Del, g, mus, tolerance, max_iter)\n",
    "        dv = dt*pin.aba(model, data, q, v, tau + J.T @ lam/dt)\n",
    "        v += dv\n",
    "    else:\n",
    "        v = vf\n",
    "    q = pin.integrate(model , q, v*dt)\n",
    "    qs += [q]\n",
    "    vs += [v]"
   ]
  },
  {
   "cell_type": "markdown",
   "metadata": {},
   "source": [
    "### Visualization"
   ]
  },
  {
   "cell_type": "markdown",
   "metadata": {},
   "source": [
    "We visualize the trajectory of the 2 stacked cubes:"
   ]
  },
  {
   "cell_type": "code",
   "execution_count": null,
   "metadata": {},
   "outputs": [],
   "source": [
    "vizer = MeshcatVisualizer(model, geom_model, visual_model)\n",
    "vizer.initViewer(open=False, loadModel=True)\n",
    "\n",
    "vizer.viewer[\"plane\"].set_object(meshcat.geometry.Box(np.array([20, 20, 0.1])))\n",
    "placement = np.eye(4)\n",
    "placement[:3, 3] = np.array([0, 0, -0.05])\n",
    "vizer.viewer[\"plane\"].set_transform(placement)\n",
    "vizer.display(q0)\n",
    "\n",
    "cp1 = [0.8, 0.0, 0.2] #camera position\n",
    "cps_ = [cp1]\n",
    "numrep = len(cps_)\n",
    "rps_ = [np.zeros(3)]*numrep\n",
    "\n",
    "max_fps = 30.\n",
    "fps = min([max_fps,1./dt])\n",
    "qs = sub_sample(qs,dt*T, fps)\n",
    "vs = sub_sample(vs,dt*T, fps)\n",
    "\n",
    "def get_callback(i: int):\n",
    "    def _callback(t):\n",
    "        pin.forwardKinematics(model, vizer.data, qs[t], vs[t])\n",
    "    return _callback\n",
    "\n"
   ]
  },
  {
   "cell_type": "code",
   "execution_count": null,
   "metadata": {},
   "outputs": [],
   "source": [
    "vizer.viewer.jupyter_cell()"
   ]
  },
  {
   "cell_type": "code",
   "execution_count": null,
   "metadata": {},
   "outputs": [],
   "source": [
    "for i in range(numrep):\n",
    "    vizer.play(\n",
    "        qs,\n",
    "        1./fps,\n",
    "        get_callback(i)\n",
    "    )"
   ]
  },
  {
   "cell_type": "markdown",
   "metadata": {},
   "source": [
    "Try the same ill-conditioned cube-stacking with CCP, it should result in better simulation with no interpenetration."
   ]
  },
  {
   "cell_type": "code",
   "execution_count": null,
   "metadata": {},
   "outputs": [],
   "source": [
    "# initial state\n",
    "q0 = pin.neutral(model)\n",
    "q0[2] = cube_dimension / 2 + cube_dimension/50.\n",
    "q0[9] = 3. * cube_dimension / 2 + 3*cube_dimension/50.\n",
    "v0 = np.zeros(model.nv)\n",
    "q, v = q0.copy(), v0.copy()\n",
    "\n",
    "qs, vs = [q0], [v0] #arrays to store trajectory\n",
    "\n",
    "for t in range(T): # simulation loop \n",
    "    tau = np.zeros(model.nv)\n",
    "    pin.updateGeometryPlacements(model, data, geom_model, geom_data, q)\n",
    "    pin.computeCollisions(geom_model, geom_data, False)\n",
    "    J, vf, Del,g, mus = computeContactProblem(model, data, geom_model, geom_data, q, v, tau, dt)\n",
    "    if J is not None:\n",
    "        lam = solve_contact_ADMM_CCP(Del, g, mus, 1e1)\n",
    "        dv = dt*pin.aba(model, data, q, v, tau + J.T @ lam/dt)\n",
    "        v += dv\n",
    "    else:\n",
    "        v = vf\n",
    "    q = pin.integrate(model , q, v*dt)\n",
    "    qs += [q]\n",
    "    vs += [v]"
   ]
  },
  {
   "cell_type": "code",
   "execution_count": null,
   "metadata": {},
   "outputs": [],
   "source": [
    "vizer = MeshcatVisualizer(model, geom_model, visual_model)\n",
    "vizer.initViewer(open=False, loadModel=True)\n",
    "\n",
    "vizer.viewer[\"plane\"].set_object(meshcat.geometry.Box(np.array([20, 20, 0.1])))\n",
    "placement = np.eye(4)\n",
    "placement[:3, 3] = np.array([0, 0, -0.05])\n",
    "vizer.viewer[\"plane\"].set_transform(placement)\n",
    "vizer.display(q0)\n",
    "\n",
    "cp1 = [0.8, 0.0, 0.2] #camera position\n",
    "cps_ = [cp1]\n",
    "numrep = len(cps_)\n",
    "rps_ = [np.zeros(3)]*numrep\n",
    "\n",
    "max_fps = 30.\n",
    "fps = min([max_fps,1./dt])\n",
    "qs = sub_sample(qs,dt*T, fps)\n",
    "vs = sub_sample(vs,dt*T, fps)\n",
    "\n",
    "def get_callback(i: int):\n",
    "    def _callback(t):\n",
    "        pin.forwardKinematics(model, vizer.data, qs[t], vs[t])\n",
    "    return _callback\n",
    "\n"
   ]
  },
  {
   "cell_type": "code",
   "execution_count": null,
   "metadata": {},
   "outputs": [],
   "source": [
    "vizer.viewer.jupyter_cell()"
   ]
  },
  {
   "cell_type": "code",
   "execution_count": null,
   "metadata": {},
   "outputs": [],
   "source": [
    "for i in range(numrep):\n",
    "    vizer.play(\n",
    "        qs,\n",
    "        1./fps,\n",
    "        get_callback(i)\n",
    "    )"
   ]
  },
  {
   "cell_type": "markdown",
   "metadata": {},
   "source": [
    "## References\n",
    "\n",
    "For more information about how the different solvers compare with each other, consult the following reference on which this assignment is based\n",
    "\n",
    "[1] Quentin Le Lidec, Wilson Jallet, Louis Montaut, Ivan Laptev, Cordelia Schmid, and Justin Carpentier. Contact\n",
    "Models in Robotics: a Comparative Analysis. IEEE Transactions on Robotics, 2024. doi:10.1109/TRO.2024.3434208, arXiv:2304.06372.\n",
    "\n",
    "\n",
    "For a recent algorithm that solves the NCP problem associated with frictional contact quite reliably in practice using an ADMM method, refer \n",
    "\n",
    "[2] Justin Carpentier, Quentin Le Lidec, and Louis Montaut. From Compliant to Rigid Contact Simulation: a Unified\n",
    "and Efficient Approach. In Proceedings of Robotics: Science and Systems, Delft, Netherlands, July 2024. doi:\n",
    "10.15607/RSS.2024.XX.108\n",
    "\n",
    "Releasing the software implemented in this paper as a fast open-source library C++ library called [Simple](https://github.com/Simple-Robotics/Simple) is a current area of effort."
   ]
  }
 ],
 "metadata": {
  "kernelspec": {
   "display_name": "aws",
   "language": "python",
   "name": "python3"
  },
  "language_info": {
   "codemirror_mode": {
    "name": "ipython",
    "version": 3
   },
   "file_extension": ".py",
   "mimetype": "text/x-python",
   "name": "python",
   "nbconvert_exporter": "python",
   "pygments_lexer": "ipython3",
   "version": "3.12.3"
  }
 },
 "nbformat": 4,
 "nbformat_minor": 4
}
